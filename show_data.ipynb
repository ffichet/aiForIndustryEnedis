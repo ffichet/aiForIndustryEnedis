{
 "cells": [
  {
   "cell_type": "code",
   "execution_count": 131,
   "metadata": {},
   "outputs": [],
   "source": [
    "import pandas\n",
    "import numpy\n",
    "import matplotlib.pyplot as plt\n",
    "import matplotlib\n",
    "import sys\n",
    "import os\n",
    "import pyarrow.parquet as pq\n",
    "import folium\n",
    "import numpy as np\n",
    "import utm\n",
    "import xlrd"
   ]
  },
  {
   "cell_type": "code",
   "execution_count": 132,
   "metadata": {},
   "outputs": [
    {
     "name": "stderr",
     "output_type": "stream",
     "text": [
      "/tmp/ipykernel_12592/504002386.py:4: DtypeWarning: Columns (19) have mixed types. Specify dtype option on import or set low_memory=False.\n",
      "  souterrain_2023 = pandas.read_csv(path+'souterrain_2023.csv', sep=';')\n"
     ]
    },
    {
     "data": {
      "image/png": "[encoded data removed]",
      "text/plain": [
       "<Figure size 640x480 with 1 Axes>"
      ]
     },
     "metadata": {},
     "output_type": "display_data"
    }
   ],
   "source": [
    "path = \"data/\"\n",
    "# ouvrir les fichiers\n",
    "incidents = pandas.read_csv(path+'donnees_incidents.csv', sep=';')\n",
    "souterrain_2023 = pandas.read_csv(path+'souterrain_2023.csv', sep=';')\n",
    "souterrain_troncons = pandas.read_csv(path+'souterrain_tronçons.csv', sep=';')\n",
    "icu = pandas.read_csv(path+'icu.csv', sep=';')\n",
    "temperatures = pq.read_table(path+'temperatures.parquet').to_pandas()\n",
    "humidite = pq.read_table(path+'humidite.parquet').to_pandas()\n",
    "nuages = pq.read_table(path+'nuages.parquet').to_pandas()\n",
    "\n",
    "# plotly show number of incidents per month [january to december]\n",
    "incidents_per_month = incidents.groupby('Mois (nom)').size()\n",
    "# order months by chronological order\n",
    "incidents_per_month = incidents_per_month.reindex(['janv', 'févr', 'mars', 'avr', 'mai', 'juin', 'juil', 'août', 'sept', 'oct', 'nov', 'déc'])\n",
    "incidents_per_month.plot.bar()\n",
    "plt.title('Number of incidents per month')\n",
    "plt.xlabel('Month')\n",
    "plt.ylabel('Number of incidents')\n",
    "plt.show()"
   ]
  },
  {
   "cell_type": "code",
   "execution_count": 133,
   "metadata": {},
   "outputs": [
    {
     "name": "stdout",
     "output_type": "stream",
     "text": [
      "                       date    valeur  longitude  latitude\n",
      "396365  2014-01-01 00:00:00  7.774957       -0.5      44.8\n",
      "396366  2014-01-01 01:00:00  7.238580       -0.5      44.8\n",
      "396367  2014-01-01 02:00:00  6.791040       -0.5      44.8\n",
      "396368  2014-01-01 03:00:00  6.450281       -0.5      44.8\n",
      "396369  2014-01-01 04:00:00  6.149072       -0.5      44.8\n",
      "...                     ...       ...        ...       ...\n",
      "52555   2023-12-31 20:00:00  7.485742       -0.5      44.8\n",
      "52556   2023-12-31 21:00:00  7.599268       -0.5      44.8\n",
      "52557   2023-12-31 22:00:00  7.424951       -0.5      44.8\n",
      "52558   2023-12-31 23:00:00  7.691736       -0.5      44.8\n",
      "52559   2024-01-01 00:00:00  7.263666       -0.5      44.8\n",
      "\n",
      "[87625 rows x 4 columns]\n"
     ]
    }
   ],
   "source": [
    "# rename column date_valid to date\n",
    "temperatures = temperatures.rename(columns={'date_valid': 'date'})\n",
    "temperatures = temperatures[(temperatures['longitude'] == -0.5) & (temperatures['latitude'] == 44.8)]\n",
    "print(temperatures)"
   ]
  },
  {
   "cell_type": "code",
   "execution_count": 134,
   "metadata": {},
   "outputs": [
    {
     "name": "stdout",
     "output_type": "stream",
     "text": [
      "                       date   valeur  longitude  latitude\n",
      "362280  2015-01-01 01:00:00  95.3781       -0.5      44.8\n",
      "362281  2015-01-01 02:00:00  95.6255       -0.5      44.8\n",
      "362282  2015-01-01 03:00:00  96.4922       -0.5      44.8\n",
      "362283  2015-01-01 04:00:00  96.8729       -0.5      44.8\n",
      "362284  2015-01-01 05:00:00  96.5522       -0.5      44.8\n",
      "...                     ...      ...        ...       ...\n",
      "52555   2014-12-31 20:00:00  93.6539       -0.5      44.8\n",
      "52556   2014-12-31 21:00:00  94.9962       -0.5      44.8\n",
      "52557   2014-12-31 22:00:00  95.3521       -0.5      44.8\n",
      "52558   2014-12-31 23:00:00  95.1859       -0.5      44.8\n",
      "52559   2015-01-01 00:00:00  89.6640       -0.5      44.8\n",
      "\n",
      "[87624 rows x 4 columns]\n"
     ]
    }
   ],
   "source": [
    "humidite = humidite.rename(columns={'date_valid': 'date'})\n",
    "humidite = humidite[(humidite['longitude'] == -0.5) & (humidite['latitude'] == 44.8)]\n",
    "\n",
    "print(humidite)"
   ]
  },
  {
   "cell_type": "code",
   "execution_count": 135,
   "metadata": {},
   "outputs": [
    {
     "name": "stdout",
     "output_type": "stream",
     "text": [
      "                       date    valeur  longitude  latitude\n",
      "417270  2014-01-01 01:00:00   46.8750       -0.5      44.8\n",
      "417271  2014-01-01 02:00:00   68.7500       -0.5      44.8\n",
      "417272  2014-01-01 03:00:00   54.6875       -0.5      44.8\n",
      "417273  2014-01-01 04:00:00   78.9062       -0.5      44.8\n",
      "417274  2014-01-01 05:00:00   69.5312       -0.5      44.8\n",
      "...                     ...       ...        ...       ...\n",
      "52555   2023-12-31 20:00:00   58.5000       -0.5      44.8\n",
      "52556   2023-12-31 21:00:00   98.5000       -0.5      44.8\n",
      "52557   2023-12-31 22:00:00  100.0000       -0.5      44.8\n",
      "52558   2023-12-31 23:00:00  100.0000       -0.5      44.8\n",
      "52559   2024-01-01 00:00:00  100.0000       -0.5      44.8\n",
      "\n",
      "[87697 rows x 4 columns]\n"
     ]
    }
   ],
   "source": [
    "nuages = nuages.rename(columns={'date_valid': 'date'})\n",
    "nuages = nuages[(nuages['longitude'] == -0.5) & (nuages['latitude'] == 44.8)]\n",
    "\n",
    "print(nuages)"
   ]
  },
  {
   "cell_type": "code",
   "execution_count": 136,
   "metadata": {},
   "outputs": [
    {
     "name": "stdout",
     "output_type": "stream",
     "text": [
      "Index(['date', 'temperature', 'longitude', 'latitude', 'humidite', 'nuages'], dtype='object')\n"
     ]
    }
   ],
   "source": [
    "# merge nuages, humidite and temperatures on date and longitude/latitude so that we have all the data in one dataframe with columns date, longitude, latitude, temperature, humidite, nuages\n",
    "data = pandas.merge(temperatures, humidite, on=['date', 'longitude', 'latitude'])\n",
    "data = pandas.merge(data, nuages, on=['date', 'longitude', 'latitude'])\n",
    "# rename columns\n",
    "data = data.rename(columns={'valeur_x': 'temperature', 'valeur_y': 'humidite', 'valeur': 'nuages'})\n",
    "print(data.columns)\n"
   ]
  },
  {
   "cell_type": "code",
   "execution_count": 137,
   "metadata": {},
   "outputs": [
    {
     "name": "stdout",
     "output_type": "stream",
     "text": [
      "                      date  temperature  longitude  latitude  humidite  \\\n",
      "0      2014-01-01 01:00:00     7.238580       -0.5      44.8   96.3460   \n",
      "1      2014-01-01 02:00:00     6.791040       -0.5      44.8   96.7251   \n",
      "2      2014-01-01 03:00:00     6.450281       -0.5      44.8   96.8599   \n",
      "3      2014-01-01 04:00:00     6.149072       -0.5      44.8   96.8684   \n",
      "4      2014-01-01 05:00:00     5.921381       -0.5      44.8   96.6164   \n",
      "...                    ...          ...        ...       ...       ...   \n",
      "87692  2023-12-31 20:00:00     7.485742       -0.5      44.8   87.9701   \n",
      "87693  2023-12-31 21:00:00     7.599268       -0.5      44.8   89.4553   \n",
      "87694  2023-12-31 22:00:00     7.424951       -0.5      44.8   90.7802   \n",
      "87695  2023-12-31 23:00:00     7.691736       -0.5      44.8   91.7259   \n",
      "87696  2024-01-01 00:00:00     7.263666       -0.5      44.8   93.2432   \n",
      "\n",
      "         nuages  \n",
      "0       46.8750  \n",
      "1       68.7500  \n",
      "2       54.6875  \n",
      "3       78.9062  \n",
      "4       69.5312  \n",
      "...         ...  \n",
      "87692   58.5000  \n",
      "87693   98.5000  \n",
      "87694  100.0000  \n",
      "87695  100.0000  \n",
      "87696  100.0000  \n",
      "\n",
      "[87697 rows x 6 columns]\n"
     ]
    }
   ],
   "source": [
    "print(data)"
   ]
  },
  {
   "cell_type": "code",
   "execution_count": 138,
   "metadata": {},
   "outputs": [
    {
     "name": "stdout",
     "output_type": "stream",
     "text": [
      "                      date  temperature  humidite    nuages\n",
      "0      2014-01-01 01:00:00     7.238580   96.3460   46.8750\n",
      "1      2014-01-01 02:00:00     6.791040   96.7251   68.7500\n",
      "2      2014-01-01 03:00:00     6.450281   96.8599   54.6875\n",
      "3      2014-01-01 04:00:00     6.149072   96.8684   78.9062\n",
      "4      2014-01-01 05:00:00     5.921381   96.6164   69.5312\n",
      "...                    ...          ...       ...       ...\n",
      "87692  2023-12-31 20:00:00     7.485742   87.9701   58.5000\n",
      "87693  2023-12-31 21:00:00     7.599268   89.4553   98.5000\n",
      "87694  2023-12-31 22:00:00     7.424951   90.7802  100.0000\n",
      "87695  2023-12-31 23:00:00     7.691736   91.7259  100.0000\n",
      "87696  2024-01-01 00:00:00     7.263666   93.2432  100.0000\n",
      "\n",
      "[87697 rows x 4 columns]\n"
     ]
    }
   ],
   "source": [
    "data = data.drop(columns=['longitude', 'latitude'])\n",
    "print(data)\n",
    "# build a dataframe with collumns for each day (merge hours of the same day 2014-01-01 01:00:00  2014-01-01 02:00:00 ...) max_temperature, max_humidite, max_nuages, min_temperature, min_humidite, min_nuages, avg_temperature, avg_humidite, avg_nuages\n"
   ]
  },
  {
   "cell_type": "code",
   "execution_count": 139,
   "metadata": {},
   "outputs": [
    {
     "name": "stdout",
     "output_type": "stream",
     "text": [
      "           temperature                        humidite                    \\\n",
      "                  mean        max       min       mean      max      min   \n",
      "date                                                                       \n",
      "2014-01-01    8.407479  10.476465  5.921381  86.976287  96.8684  72.3197   \n",
      "2014-01-02   10.482559  13.003564  8.543604  89.939588  96.2094  81.1347   \n",
      "2014-01-03   10.108455  12.519678  8.909326  94.035604  97.8528  89.3497   \n",
      "2014-01-04    8.958734  12.460107  5.731348  86.352908  92.5699  68.4599   \n",
      "2014-01-05    7.104425   8.300439  5.926172  90.596867  96.4792  78.9225   \n",
      "...                ...        ...       ...        ...      ...      ...   \n",
      "2023-12-28    8.285488  10.698633  5.638086  89.570104  96.0582  84.3870   \n",
      "2023-12-29    8.902926  11.101221  7.414941  93.036104  98.1611  85.4284   \n",
      "2023-12-30    9.410338  12.657373  7.106378  93.688367  98.8352  85.4002   \n",
      "2023-12-31    9.315808  10.753809  7.424951  84.338154  93.6031  73.4484   \n",
      "2024-01-01    7.263666   7.263666  7.263666  93.243200  93.2432  93.2432   \n",
      "\n",
      "                nuages                    \n",
      "                  mean    max        min  \n",
      "date                                      \n",
      "2014-01-01   88.009513  100.0   46.87500  \n",
      "2014-01-02   91.015629  100.0   35.93750  \n",
      "2014-01-03   95.084633  100.0   67.18750  \n",
      "2014-01-04   73.518883  100.0    0.00000  \n",
      "2014-01-05   66.927081  100.0    5.46875  \n",
      "...                ...    ...        ...  \n",
      "2023-12-28   93.725000  100.2   62.80000  \n",
      "2023-12-29   94.987500  100.1   55.50000  \n",
      "2023-12-30   83.658333  100.2   25.50000  \n",
      "2023-12-31   71.262500  100.2    0.00000  \n",
      "2024-01-01  100.000000  100.0  100.00000  \n",
      "\n",
      "[3653 rows x 9 columns]\n"
     ]
    }
   ],
   "source": [
    "# merge data with incidents on day (not hour)\n",
    "data['date'] = pandas.to_datetime(data['date']).dt.date\n",
    "# group by date and get the mean, max, min of each column\n",
    "data = data.groupby('date').agg({'temperature': ['mean', 'max', 'min'], 'humidite': ['mean', 'max', 'min'], 'nuages': ['mean', 'max', 'min']})\n",
    "print(data)"
   ]
  },
  {
   "cell_type": "code",
   "execution_count": 140,
   "metadata": {},
   "outputs": [
    {
     "name": "stdout",
     "output_type": "stream",
     "text": [
      "   Client_AI  Client_AQN  PS_HTA_AI  PS_HTA_AQN  Année  Mois Mois (nom)  \\\n",
      "0     466750     1389002     403426     1181581   2016     1       janv   \n",
      "1     445270     1389002     327686     1181581   2016     1       janv   \n",
      "2     445270     1389002     327686     1181581   2016     1       janv   \n",
      "3     466750     1389002     403426     1181581   2016     1       janv   \n",
      "4     445270     1389002     327686     1181581   2016     1       janv   \n",
      "\n",
      "  Année-Mois  Semaine  jour  ...   MIS_À_JOU  \\\n",
      "0  2016 - 01        1     6  ...  2020/02/10   \n",
      "1  2016 - 01        1    10  ...  2018/07/31   \n",
      "2  2016 - 01        2    12  ...  2018/07/31   \n",
      "3  2016 - 01        2    14  ...  2020/02/16   \n",
      "4  2016 - 01        2    13  ...  2020/01/08   \n",
      "\n",
      "                                      TECHNOLOGI INTENSITÉ  DÉSIGNAT1  \\\n",
      "0                    S6 - Synthétique NF C33-226     377.0  150 AL S6   \n",
      "1                    S6 - Synthétique NF C33-226     377.0  150 AL S6   \n",
      "2  PM - Papier métallisé tripolaire champ radial     216.0   75 AL PM   \n",
      "3       PU - Papier imprégné unipolaire ss plomb     455.0  240 AL PU   \n",
      "4                    S6 - Synthétique NF C33-226     377.0  150 AL S6   \n",
      "\n",
      "              COMMUNE INTENSIT1          new_x         new_y new_xbis  \\\n",
      "0            BORDEAUX     377.0  419488.481266  6.429204e+06      NaN   \n",
      "1             AVENSAN     377.0  404938.896393  6.444970e+06      NaN   \n",
      "2  ANDERNOS-LES-BAINS     216.0  377797.162623  6.412129e+06      NaN   \n",
      "3            BORDEAUX     455.0  418418.286216  6.428097e+06      NaN   \n",
      "4             LACANAU     377.0  374147.393638  6.437415e+06      NaN   \n",
      "\n",
      "   new_ybis  \n",
      "0       NaN  \n",
      "1       NaN  \n",
      "2       NaN  \n",
      "3       NaN  \n",
      "4       NaN  \n",
      "\n",
      "[5 rows x 58 columns]\n"
     ]
    }
   ],
   "source": [
    "print(incidents.head())"
   ]
  },
  {
   "cell_type": "code",
   "execution_count": 141,
   "metadata": {},
   "outputs": [
    {
     "name": "stdout",
     "output_type": "stream",
     "text": [
      "      Client_AI  Client_AQN  PS_HTA_AI  PS_HTA_AQN  Année  Mois Mois (nom)  \\\n",
      "0        466750     1389002     403426     1181581   2016     1       janv   \n",
      "3        466750     1389002     403426     1181581   2016     1       janv   \n",
      "7        466750     1389002     403426     1181581   2016     1       janv   \n",
      "11       466750     1389002     403426     1181581   2016     1       janv   \n",
      "12       466750     1389002     403426     1181581   2016     1       janv   \n",
      "...         ...         ...        ...         ...    ...   ...        ...   \n",
      "1869     466750     1389002     403426     1181581   2016     7       juil   \n",
      "1870     466750     1389002     403426     1181581   2016     9       sept   \n",
      "1890     475497     1407755     406693     1208948   2017    12        déc   \n",
      "1895     487054     1428927     412778     1214770   2018     6       juin   \n",
      "1898     496536     1452441     424279     1258297   2019     1       janv   \n",
      "\n",
      "     Année-Mois  Semaine  jour  ...   MIS_À_JOU  \\\n",
      "0     2016 - 01        1     6  ...  2020/02/10   \n",
      "3     2016 - 01        2    14  ...  2020/02/16   \n",
      "7     2016 - 01        2    14  ...  2020/02/24   \n",
      "11    2016 - 01        2    14  ...  2020/02/26   \n",
      "12    2016 - 01        2    14  ...  2022/08/18   \n",
      "...         ...      ...   ...  ...         ...   \n",
      "1869  2016 - 07       30    27  ...         NaN   \n",
      "1870  2016 - 09       38    24  ...         NaN   \n",
      "1890  2017 - 12       49    10  ...         NaN   \n",
      "1895  2018 - 06       25    23  ...         NaN   \n",
      "1898  2019 - 01        4    23  ...         NaN   \n",
      "\n",
      "                                    TECHNOLOGI INTENSITÉ  DÉSIGNAT1  \\\n",
      "0                  S6 - Synthétique NF C33-226     377.0  150 AL S6   \n",
      "3     PU - Papier imprégné unipolaire ss plomb     455.0  240 AL PU   \n",
      "7              S3 - Synthétique HN33 S 23 (PR)     370.0  150 AL S3   \n",
      "11             S3 - Synthétique HN33 S 23 (PR)     370.0  150 AL S3   \n",
      "12                 S6 - Synthétique NF C33-226     497.0  240 AL S6   \n",
      "...                                        ...       ...        ...   \n",
      "1869                                       NaN       NaN        NaN   \n",
      "1870                                       NaN       NaN        NaN   \n",
      "1890                                       NaN       NaN        NaN   \n",
      "1895                                       NaN       NaN        NaN   \n",
      "1898                                       NaN       NaN        NaN   \n",
      "\n",
      "                     COMMUNE INTENSIT1          new_x         new_y new_xbis  \\\n",
      "0                   BORDEAUX     377.0  419488.481266  6.429204e+06      NaN   \n",
      "3                   BORDEAUX     455.0  418418.286216  6.428097e+06      NaN   \n",
      "7                      CENON     370.0  420595.041837  6.422481e+06      NaN   \n",
      "11    ARTIGUES-PRES-BORDEAUX     370.0  424280.987245  6.424001e+06      NaN   \n",
      "12                     CENON     497.0  421697.111211  6.423470e+06      NaN   \n",
      "...                      ...       ...            ...           ...      ...   \n",
      "1869                     NaN       NaN  417672.921675  6.424630e+06      NaN   \n",
      "1870                     NaN       NaN  421541.920265  6.440315e+06      NaN   \n",
      "1890                     NaN       NaN  408672.027134  6.430136e+06      NaN   \n",
      "1895                     NaN       NaN  415066.552597  6.417201e+06      NaN   \n",
      "1898                     NaN       NaN  420572.802586  6.430022e+06      NaN   \n",
      "\n",
      "      new_ybis  \n",
      "0          NaN  \n",
      "3          NaN  \n",
      "7          NaN  \n",
      "11         NaN  \n",
      "12         NaN  \n",
      "...        ...  \n",
      "1869       NaN  \n",
      "1870       NaN  \n",
      "1890       NaN  \n",
      "1895       NaN  \n",
      "1898       NaN  \n",
      "\n",
      "[715 rows x 58 columns]\n"
     ]
    }
   ],
   "source": [
    "# add a column count \"incidents' to data that contains the number of incidents for each Date d'interruption (format : 42375) and where COMMUNE == BORDEAUX\n",
    "incidents = incidents[incidents['Territoire'] == 'Métropole']\n",
    "print(incidents)\n",
    "\n"
   ]
  },
  {
   "cell_type": "code",
   "execution_count": 142,
   "metadata": {},
   "outputs": [
    {
     "name": "stdout",
     "output_type": "stream",
     "text": [
      "Date d'interruption\n",
      "2015-01-29    1\n",
      "2015-02-06    1\n",
      "2015-02-07    1\n",
      "2015-02-26    1\n",
      "2015-02-28    1\n",
      "             ..\n",
      "2023-12-05    1\n",
      "2023-12-08    1\n",
      "2023-12-29    2\n",
      "2024-01-01    1\n",
      "2024-01-02    1\n",
      "Length: 511, dtype: int64\n"
     ]
    }
   ],
   "source": [
    "# convert Date d'interruption 42375 to datetime\n",
    "incidents['Date d\\'interruption'] = pandas.to_datetime(incidents['Date d\\'interruption'], unit='D', origin='1899-12-30')\n",
    "# convert datetime to date\n",
    "incidents['Date d\\'interruption'] = pandas.to_datetime(incidents['Date d\\'interruption']).dt.date\n",
    "# group by date and count the number of incidents\n",
    "incidents = incidents.groupby('Date d\\'interruption').size()\n",
    "print(incidents)\n"
   ]
  },
  {
   "cell_type": "code",
   "execution_count": 143,
   "metadata": {},
   "outputs": [
    {
     "name": "stdout",
     "output_type": "stream",
     "text": [
      "           date  incidents\n",
      "0    2015-01-29          1\n",
      "1    2015-02-06          1\n",
      "2    2015-02-07          1\n",
      "3    2015-02-26          1\n",
      "4    2015-02-28          1\n",
      "..          ...        ...\n",
      "506  2023-12-05          1\n",
      "507  2023-12-08          1\n",
      "508  2023-12-29          2\n",
      "509  2024-01-01          1\n",
      "510  2024-01-02          1\n",
      "\n",
      "[511 rows x 2 columns]\n"
     ]
    }
   ],
   "source": [
    "#rename Date d'interruption to date and count to incidents\n",
    "incidents = incidents.reset_index(name='incidents')\n",
    "incidents = incidents.rename(columns={'Date d\\'interruption': 'date'})\n",
    "print(incidents)\n"
   ]
  },
  {
   "cell_type": "code",
   "execution_count": 144,
   "metadata": {},
   "outputs": [
    {
     "name": "stdout",
     "output_type": "stream",
     "text": [
      "           date  incidents\n",
      "0    2015-01-29          1\n",
      "1    2015-02-06          1\n",
      "2    2015-02-07          1\n",
      "3    2015-02-26          1\n",
      "4    2015-02-28          1\n",
      "..          ...        ...\n",
      "506  2023-12-05          1\n",
      "507  2023-12-08          1\n",
      "508  2023-12-29          2\n",
      "509  2024-01-01          1\n",
      "510  2024-01-02          1\n",
      "\n",
      "[511 rows x 2 columns]\n",
      "Number of days with 0 incidents :  0\n",
      "Number of days with 1 incident :  394\n",
      "Number of days with 2 or more incidents :  117\n"
     ]
    }
   ],
   "source": [
    "# change number of incidents to 0 if there is no incident, 1 if there is 1 incident, 2 if there is 2 or more incidents\n",
    "incidents['incidents'] = numpy.where(incidents['incidents'] > 1, 2, incidents['incidents'])\n",
    "print(incidents)\n",
    "print(\"Number of days with 0 incidents : \", incidents[incidents['incidents'] == 0].shape[0])\n",
    "print(\"Number of days with 1 incident : \", incidents[incidents['incidents'] == 1].shape[0])\n",
    "print(\"Number of days with 2 or more incidents : \", incidents[incidents['incidents'] == 2].shape[0])\n",
    "        "
   ]
  },
  {
   "cell_type": "code",
   "execution_count": 145,
   "metadata": {},
   "outputs": [
    {
     "name": "stdout",
     "output_type": "stream",
     "text": [
      "            date  (temperature, mean)  (temperature, max)  (temperature, min)  \\\n",
      "0     2014-01-01             8.407479           10.476465            5.921381   \n",
      "1     2014-01-02            10.482559           13.003564            8.543604   \n",
      "2     2014-01-03            10.108455           12.519678            8.909326   \n",
      "3     2014-01-04             8.958734           12.460107            5.731348   \n",
      "4     2014-01-05             7.104425            8.300439            5.926172   \n",
      "...          ...                  ...                 ...                 ...   \n",
      "3648  2023-12-28             8.285488           10.698633            5.638086   \n",
      "3649  2023-12-29             8.902926           11.101221            7.414941   \n",
      "3650  2023-12-30             9.410338           12.657373            7.106378   \n",
      "3651  2023-12-31             9.315808           10.753809            7.424951   \n",
      "3652  2024-01-01             7.263666            7.263666            7.263666   \n",
      "\n",
      "      (humidite, mean)  (humidite, max)  (humidite, min)  (nuages, mean)  \\\n",
      "0            86.976287          96.8684          72.3197       88.009513   \n",
      "1            89.939588          96.2094          81.1347       91.015629   \n",
      "2            94.035604          97.8528          89.3497       95.084633   \n",
      "3            86.352908          92.5699          68.4599       73.518883   \n",
      "4            90.596867          96.4792          78.9225       66.927081   \n",
      "...                ...              ...              ...             ...   \n",
      "3648         89.570104          96.0582          84.3870       93.725000   \n",
      "3649         93.036104          98.1611          85.4284       94.987500   \n",
      "3650         93.688367          98.8352          85.4002       83.658333   \n",
      "3651         84.338154          93.6031          73.4484       71.262500   \n",
      "3652         93.243200          93.2432          93.2432      100.000000   \n",
      "\n",
      "      (nuages, max)  (nuages, min)  incidents  \n",
      "0             100.0       46.87500        NaN  \n",
      "1             100.0       35.93750        NaN  \n",
      "2             100.0       67.18750        NaN  \n",
      "3             100.0        0.00000        NaN  \n",
      "4             100.0        5.46875        NaN  \n",
      "...             ...            ...        ...  \n",
      "3648          100.2       62.80000        NaN  \n",
      "3649          100.1       55.50000        2.0  \n",
      "3650          100.2       25.50000        NaN  \n",
      "3651          100.2        0.00000        NaN  \n",
      "3652          100.0      100.00000        1.0  \n",
      "\n",
      "[3653 rows x 11 columns]\n"
     ]
    },
    {
     "name": "stderr",
     "output_type": "stream",
     "text": [
      "/tmp/ipykernel_12592/2223774249.py:2: FutureWarning: merging between different levels is deprecated and will be removed in a future version. (2 levels on the left, 1 on the right)\n",
      "  data = pandas.merge(data, incidents, on=['date'], how='left')\n"
     ]
    }
   ],
   "source": [
    "#merge data and incidents on date\n",
    "data = pandas.merge(data, incidents, on=['date'], how='left')\n",
    "print(data)"
   ]
  },
  {
   "cell_type": "code",
   "execution_count": 151,
   "metadata": {},
   "outputs": [
    {
     "name": "stdout",
     "output_type": "stream",
     "text": [
      "Number of days with 0 incidents :  3143\n",
      "Number of days with 1 incident :  393\n",
      "Number of days with 2 or more incidents :  117\n"
     ]
    }
   ],
   "source": [
    "# fil NaN values with 0\n",
    "data = data.fillna(0)\n",
    "print(\"Number of days with 0 incidents : \", data[data['incidents'] == 0].shape[0])\n",
    "print(\"Number of days with 1 incident : \", data[data['incidents'] == 1].shape[0])\n",
    "print(\"Number of days with 2 or more incidents : \", data[data['incidents'] == 2].shape[0])\n",
    "\n"
   ]
  }
 ],
 "metadata": {
  "kernelspec": {
   "display_name": "Python 3",
   "language": "python",
   "name": "python3"
  },
  "language_info": {
   "codemirror_mode": {
    "name": "ipython",
    "version": 3
   },
   "file_extension": ".py",
   "mimetype": "text/x-python",
   "name": "python",
   "nbconvert_exporter": "python",
   "pygments_lexer": "ipython3",
   "version": "3.11.5"
  }
 },
 "nbformat": 4,
 "nbformat_minor": 2
}
