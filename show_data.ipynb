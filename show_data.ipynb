{
 "cells": [
  {
   "cell_type": "code",
   "execution_count": null,
   "metadata": {},
   "outputs": [],
   "source": [
    "import pandas\n",
    "import numpy\n",
    "import matplotlib.pyplot as plt\n",
    "import matplotlib\n",
    "import sys\n",
    "import os\n",
    "import pyarrow.parquet as pq\n",
    "import plotly\n",
    "import folium\n",
    "import plotly.express as px\n",
    "import plotly.graph_objects as go\n",
    "import plotly.io as pio\n",
    "import plotly.figure_factory as ff\n",
    "import plotly.offline as py\n",
    "import plotly.graph_objs as go\n",
    "import geopandas as gpd"
   ]
  },
  {
   "cell_type": "code",
   "execution_count": null,
   "metadata": {},
   "outputs": [],
   "source": [
    "# donnees_incidents.csv : Client_AI\tClient_AQN\tPS_HTA_AI\tPS_HTA_AQN\tAnnÃ©e\tMois\tMois (nom)\tAnnÃ©e-Mois\tSemaine\tjour\tADEL\tADEL/Exceptionnel\tCPI\tDurÃ©e >= 3mn\tINSEE\tBO\tTerritoire\tClients par dÃ©part HTA\tPoste Source\tCode centre\tDate d'interruption\tHeure d'Interruption (hhmm)\tCode du dÃ©part HTA\tNature du Jour\tCause de l'interruption\tSiÃ¨ge de l'Interruption\tDurÃ©e Totale Interruption (min)\tDurÃ©e de Localisation (min)\tDurÃ©e de DÃ©pannage (min)\tDurÃ©e de retour Ã  la normale (min)\tNb renvois en phase localisation\tFonctionnement appareil coupure\tType interruption exceptionnelle\tLieu de dÃ©faut code GDO objet 1\tLieu de dÃ©faut code GDO objet 2\tid\tx\ty\tCENTRE\tSTATUT\tDATE_DE_CO\tTENSION_D_\tNOMBRE_DE_\tUNITÃ‰_D_E\tDÃ‰SIGNATI\tLONGUEUR_\tID_SIG\tCRÃ‰Ã‰_LE\tMIS_Ã€_JOU\tTECHNOLOGI\tINTENSITÃ‰\tDÃ‰SIGNAT1\tCOMMUNE\tINTENSIT1\tnew_x\tnew_y\tnew_xbis\tnew_ybis\n",
    "# souterrain_2023.csv : WKT\tCENTRE\tSTATUT\tDATE_DE_CO\tTENSION_D_\tNOMBRE_DE_\tUNITÃ‰_D_E\tDÃ‰SIGNATI\tLONGUEUR_\tID_SIG\tCRÃ‰Ã‰_LE\tMIS_Ã€_JOU\tDOSSIER_MO\tTECHNOLOGI\tINTENSITÃ‰\tDÃ‰SIGNAT1\tCOMMUNE\tCODE_GDO\tINTENSIT1\tSTATUT_DEP\tWKT_next\tID_SIG_next\tx0\ty0\tx1\ty1\n",
    "# souterrain_troncons.csv : WKT\tCENTRE\tSTATUT\tDATE_DE_CO\tTENSION_D_\tNOMBRE_DE_\tUNITÃ‰_D_E\tDÃ‰SIGNATI\tLONGUEUR_\tID_SIG\tCRÃ‰Ã‰_LE\tMIS_Ã€_JOU\tDOSSIER_MO\tTECHNOLOGI\tINTENSITÃ‰\tDÃ‰SIGNAT1\tCOMMUNE\tCODE_GDO\tINTENSIT1\tSTATUT_DEP\n",
    "# icu.csv : WKT\tfid\tTEMP_1\tUU_1\n",
    "# temperatures.parquet\n",
    "path = \"data/\"\n",
    "# ouvrir les fichiers\n",
    "incidents = pandas.read_csv(path+'donnees_incidents.csv', sep=';')\n",
    "souterrain_2023 = pandas.read_csv(path+'souterrain_2023.csv', sep=';')\n",
    "souterrain_troncons = pandas.read_csv(path+'souterrain_tronçons.csv', sep=';')\n",
    "icu = pandas.read_csv(path+'icu.csv', sep=';')\n",
    "temperatures = pq.read_table(path+'temperatures.parquet').to_pandas()\n",
    "\n",
    "# plotly show number of incidents per month [january to december]\n",
    "incidents_per_month = incidents.groupby('Mois (nom)').size()\n",
    "# order months by chronological order\n",
    "incidents_per_month = incidents_per_month.reindex(['janv', 'févr', 'mars', 'avr', 'mai', 'juin', 'juil', 'août', 'sept', 'oct', 'nov', 'déc'])\n",
    "incidents_per_month.plot.bar()\n",
    "plt.title('Number of incidents per month')\n",
    "plt.xlabel('Month')\n",
    "plt.ylabel('Number of incidents')\n",
    "plt.show()"
   ]
  },
  {
   "cell_type": "code",
   "execution_count": null,
   "metadata": {},
   "outputs": [],
   "source": [
    "# show incidents on a map\n",
    "# create a map\n",
    "m = folium.Map(location=[45.75, 4.85], zoom_start=12)\n",
    "# add incidents\n",
    "for index, row in incidents.iterrows():\n",
    "    try :\n",
    "        folium.Marker([row['new_y'], row['new_x']], popup=row['Cause de l\\'interruption']).add_to(m)\n",
    "    except :\n",
    "        print(\"error: \", row['new_x'], row['new_y'])\n",
    "        pass\n",
    "# add underground cables\n",
    "for index, row in souterrain_2023.iterrows():\n",
    "    try : \n",
    "        folium.PolyLine([[row['y0'], row['x0']], [row['y1'], row['x1']]], color=\"red\", weight=2.5, opacity=1).add_to(m)\n",
    "    except :\n",
    "        print(\"error: \", row['x0'], row['y0'], row['x1'], row['y1'])\n",
    "        pass\n"
   ]
  },
  {
   "cell_type": "code",
   "execution_count": null,
   "metadata": {},
   "outputs": [],
   "source": [
    "# plot the map\n",
    "m.save('map.html')"
   ]
  },
  {
   "cell_type": "code",
   "execution_count": null,
   "metadata": {},
   "outputs": [],
   "source": [
    "print(temperatures)\n",
    "# date_valid     valeur  longitude  latitude\n",
    "# 0       2014-01-01 00:00:00   6.712457        0.1      44.0\n",
    "# 1       2014-01-01 01:00:00   6.176080        0.1      44.0"
   ]
  },
  {
   "cell_type": "code",
   "execution_count": null,
   "metadata": {},
   "outputs": [],
   "source": [
    "# xgboost model to predict if there will be an incident or not on a given day (taking into account temperature)\n",
    "\n",
    "# create a dataframe with the number of incidents per day (Année-Mois |  Semaine |  jour) and fill with 0 when there is no incident on a given day\n",
    "incidents_per_day = incidents.groupby(['Année-Mois', 'Semaine', 'jour']).size()\n",
    "\n",
    "\n",
    "incidents_per_day = incidents_per_day.reset_index()\n",
    "incidents_per_day = incidents_per_day.rename(columns={0: 'Value'})\n",
    "incidents_per_day['Année-Mois-jour'] = incidents_per_day['Année-Mois'] + '-' + incidents_per_day['jour'].astype(str)\n",
    "incidents_per_day = incidents_per_day.drop(columns=['Année-Mois', 'Semaine', 'jour'])\n",
    "incidents_per_day = incidents_per_day.set_index('Année-Mois-jour')\n",
    "\n",
    "# add missing days with 0 value\n",
    "start_date = incidents_per_day.index[0]\n",
    "end_date = incidents_per_day.index[-1]\n",
    "idx = pandas.date_range(start_date, end_date)\n",
    "incidents_per_day.index = pandas.DatetimeIndex(incidents_per_day.index)\n",
    "incidents_per_day = incidents_per_day.reindex(idx, fill_value=0)\n",
    "incidents_per_day = incidents_per_day.reset_index()\n",
    "incidents_per_day = incidents_per_day.rename(columns={'index': 'Année-Mois-jour'})\n",
    "incidents_per_day['Année-Mois-jour'] = incidents_per_day['Année-Mois-jour'].astype(str)\n",
    "incidents_per_day['Année-Mois-jour'] = incidents_per_day['Année-Mois-jour'].str.replace(' 00:00:00', '')\n",
    "incidents_per_day = incidents_per_day.set_index('Année-Mois-jour')\n",
    "incidents_per_day = incidents_per_day.sort_index()\n",
    "\n",
    "\n",
    "plt.plot(incidents_per_day)\n",
    "plt.title('Number of incidents per day')\n",
    "plt.xlabel('Date')\n",
    "plt.ylabel('Number of incidents')\n",
    "plt.show()\n",
    "\n",
    "#show histogram of accident\n",
    "incidents_per_day.hist(bins= range(10))\n",
    "plt.title('Histogram of number of incidents per day')\n",
    "plt.xlabel('Number of incidents')\n",
    "plt.ylabel('Number of days')\n",
    "plt.show()\n",
    "\n",
    "\n",
    "\n",
    "# create a dataframe with the temperature per day\n",
    "temperatures_per_day = temperatures.groupby('date_valid').mean()\n",
    "temperatures_per_day = temperatures_per_day.drop(columns=['longitude', 'latitude'])\n",
    "temperatures_per_day.index = pandas.to_datetime(temperatures_per_day.index)\n",
    "temperatures_per_day = temperatures_per_day.resample('D').mean()\n",
    "temperatures_per_day = temperatures_per_day.dropna()\n",
    "\n",
    "# plot mean temperature per day \n",
    "plt.plot(temperatures_per_day)\n",
    "plt.title('Mean temperature per day')\n",
    "plt.xlabel('Date')\n",
    "plt.ylabel('Mean temperature')\n",
    "plt.show()\n",
    "\n",
    "\n",
    "\n"
   ]
  },
  {
   "cell_type": "code",
   "execution_count": null,
   "metadata": {},
   "outputs": [],
   "source": []
  }
 ],
 "metadata": {
  "kernelspec": {
   "display_name": "Python 3",
   "language": "python",
   "name": "python3"
  },
  "language_info": {
   "codemirror_mode": {
    "name": "ipython",
    "version": 3
   },
   "file_extension": ".py",
   "mimetype": "text/x-python",
   "name": "python",
   "nbconvert_exporter": "python",
   "pygments_lexer": "ipython3",
   "version": "3.8.10"
  }
 },
 "nbformat": 4,
 "nbformat_minor": 2
}
