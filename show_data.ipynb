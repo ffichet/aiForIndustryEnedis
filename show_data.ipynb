{
 "cells": [
  {
   "cell_type": "code",
   "execution_count": 2,
   "metadata": {},
   "outputs": [],
   "source": [
    "import pandas\n",
    "import numpy\n",
    "import matplotlib.pyplot as plt\n",
    "import matplotlib\n",
    "import sys\n",
    "import os\n",
    "import pyarrow.parquet as pq\n",
    "import folium\n",
    "import numpy as np"
   ]
  },
  {
   "cell_type": "code",
   "execution_count": 3,
   "metadata": {},
   "outputs": [
    {
     "name": "stderr",
     "output_type": "stream",
     "text": [
      "/var/folders/fq/416crnp14t900prd5913_8700000gn/T/ipykernel_44056/504002386.py:4: DtypeWarning: Columns (19) have mixed types. Specify dtype option on import or set low_memory=False.\n",
      "  souterrain_2023 = pandas.read_csv(path+'souterrain_2023.csv', sep=';')\n"
     ]
    },
    {
     "data": {
      "image/png": "[encoded data removed]",
      "text/plain": [
       "<Figure size 640x480 with 1 Axes>"
      ]
     },
     "metadata": {},
     "output_type": "display_data"
    }
   ],
   "source": [
    "path = \"data/\"\n",
    "# ouvrir les fichiers\n",
    "incidents = pandas.read_csv(path+'donnees_incidents.csv', sep=';')\n",
    "souterrain_2023 = pandas.read_csv(path+'souterrain_2023.csv', sep=';')\n",
    "souterrain_troncons = pandas.read_csv(path+'souterrain_tronçons.csv', sep=';')\n",
    "icu = pandas.read_csv(path+'icu.csv', sep=';')\n",
    "temperatures = pq.read_table(path+'temperatures.parquet').to_pandas()\n",
    "humidite = pq.read_table(path+'humidite.parquet').to_pandas()\n",
    "nuages = pq.read_table(path+'nuages.parquet').to_pandas()\n",
    "\n",
    "# plotly show number of incidents per month [january to december]\n",
    "incidents_per_month = incidents.groupby('Mois (nom)').size()\n",
    "# order months by chronological order\n",
    "incidents_per_month = incidents_per_month.reindex(['janv', 'févr', 'mars', 'avr', 'mai', 'juin', 'juil', 'août', 'sept', 'oct', 'nov', 'déc'])\n",
    "incidents_per_month.plot.bar()\n",
    "plt.title('Number of incidents per month')\n",
    "plt.xlabel('Month')\n",
    "plt.ylabel('Number of incidents')\n",
    "plt.show()"
   ]
  },
  {
   "cell_type": "code",
   "execution_count": 4,
   "metadata": {},
   "outputs": [
    {
     "name": "stdout",
     "output_type": "stream",
     "text": [
      "error:  nan nan\n",
      "error:  nan nan\n",
      "error:  nan nan\n",
      "error:  nan nan\n",
      "error:  nan nan\n"
     ]
    }
   ],
   "source": [
    "# show incidents on a map\n",
    "# create a map\n",
    "m = folium.Map(location=[45.75, 4.85], zoom_start=12)\n",
    "# add incidents\n",
    "for index, row in incidents.iterrows():\n",
    "    try :\n",
    "        folium.Marker([row['new_y'], row['new_x']], popup=row['Cause de l\\'interruption']).add_to(m)\n",
    "    except :\n",
    "        print(\"error: \", row['new_x'], row['new_y'])\n",
    "        pass\n",
    "# add underground cables\n",
    "for index, row in souterrain_2023.iterrows():\n",
    "    try : \n",
    "        folium.PolyLine([[row['y0'], row['x0']], [row['y1'], row['x1']]], color=\"red\", weight=2.5, opacity=1).add_to(m)\n",
    "    except :\n",
    "        print(\"error: \", row['x0'], row['y0'], row['x1'], row['y1'])\n",
    "        pass\n"
   ]
  },
  {
   "cell_type": "code",
   "execution_count": 5,
   "metadata": {
    "ExecuteTime": {
     "end_time": "2024-01-23T15:35:06.304358Z",
     "start_time": "2024-01-23T15:35:06.299711Z"
    }
   },
   "outputs": [
    {
     "name": "stdout",
     "output_type": "stream",
     "text": [
      "                 date_valid     valeur  longitude  latitude\n",
      "0       2014-01-01 00:00:00   6.712457        0.1      44.0\n",
      "1       2014-01-01 01:00:00   6.176080        0.1      44.0\n",
      "2       2014-01-01 02:00:00   5.666040        0.1      44.0\n",
      "3       2014-01-01 03:00:00   5.169031        0.1      44.0\n",
      "4       2014-01-01 04:00:00   4.680322        0.1      44.0\n",
      "...                     ...        ...        ...       ...\n",
      "175195  2023-12-31 20:00:00   9.845117       -1.0      45.1\n",
      "175196  2023-12-31 21:00:00  10.114893       -1.0      45.1\n",
      "175197  2023-12-31 22:00:00  10.237451       -1.0      45.1\n",
      "175198  2023-12-31 23:00:00  10.332361       -1.0      45.1\n",
      "175199  2024-01-01 00:00:00   9.951166       -1.0      45.1\n",
      "\n",
      "[24535000 rows x 4 columns]\n"
     ]
    }
   ],
   "source": [
    "print(temperatures)\n",
    "# date_valid     valeur  longitude  latitude\n",
    "# 0       2014-01-01 00:00:00   6.712457        0.1      44.0\n",
    "# 1       2014-01-01 01:00:00   6.176080        0.1      44.0"
   ]
  },
  {
   "cell_type": "code",
   "execution_count": 6,
   "metadata": {
    "ExecuteTime": {
     "end_time": "2024-01-23T15:41:30.329239Z",
     "start_time": "2024-01-23T15:41:28.794674Z"
    }
   },
   "outputs": [],
   "source": [
    "# xgboost model to predict if there will be an incident or not on a given day (taking into account temperature)\n",
    "\n",
    "# create a dataframe with the number of incidents per day (Année-Mois |  Semaine |  jour) and fill with 0 when there is no incident on a given day\n",
    "incidents_per_day = incidents.groupby(['Année-Mois', 'Semaine', 'jour']).size()\n",
    "\n",
    "incidents_per_day = incidents_per_day.reset_index()\n",
    "incidents_per_day = incidents_per_day.rename(columns={0: 'Value'})\n",
    "incidents_per_day['Année-Mois-jour'] = incidents_per_day['Année-Mois'] + '-' + incidents_per_day['jour'].astype(str)\n",
    "incidents_per_day = incidents_per_day.drop(columns=['Année-Mois', 'Semaine', 'jour'])\n",
    "incidents_per_day = incidents_per_day.set_index('Année-Mois-jour')\n",
    "\n",
    "# add missing days with 0 value\n",
    "start_date = incidents_per_day.index[0]\n",
    "end_date = incidents_per_day.index[-1]\n",
    "idx = pandas.date_range(start_date, end_date)\n",
    "incidents_per_day.index = pandas.DatetimeIndex(incidents_per_day.index)\n",
    "incidents_per_day = incidents_per_day.reindex(idx, fill_value=0)\n",
    "incidents_per_day = incidents_per_day.reset_index()\n",
    "incidents_per_day = incidents_per_day.rename(columns={'index': 'Année-Mois-jour'})\n",
    "incidents_per_day['Année-Mois-jour'] = incidents_per_day['Année-Mois-jour'].astype(str)\n",
    "incidents_per_day = incidents_per_day.set_index('Année-Mois-jour')\n",
    "incidents_per_day = incidents_per_day.sort_index()\n",
    "incidents_per_day.reset_index(inplace=True)\n",
    "\n",
    "# create a dataframe with the temperature per day\n",
    "temperatures_per_day = temperatures.groupby('date_valid').mean()\n",
    "temperatures_per_day = temperatures_per_day.drop(columns=['longitude', 'latitude'])\n",
    "temperatures_per_day.index = pandas.to_datetime(temperatures_per_day.index)\n",
    "temperatures_per_day = temperatures_per_day.resample('D').mean()\n",
    "temperatures_per_day = temperatures_per_day.dropna()\n",
    "temperatures_per_day.reset_index(inplace=True)\n"
   ]
  },
  {
   "cell_type": "code",
   "execution_count": 7,
   "metadata": {},
   "outputs": [],
   "source": [
    "# incidents_per_day[\"seuil\"] = np.where(incidents_per_day > 1, 2, np.where(incidents_per_day > 0, 1, 0))\n",
    "incidents_per_day[\"seuil\"] = incidents_per_day[\"Value\"].apply(lambda x: 0 if x == 0 else (1 if x == 1 else 2))"
   ]
  },
  {
   "cell_type": "code",
   "execution_count": 16,
   "metadata": {},
   "outputs": [
    {
     "data": {
      "text/html": [
       "<div>\n",
       "<style scoped>\n",
       "    .dataframe tbody tr th:only-of-type {\n",
       "        vertical-align: middle;\n",
       "    }\n",
       "\n",
       "    .dataframe tbody tr th {\n",
       "        vertical-align: top;\n",
       "    }\n",
       "\n",
       "    .dataframe thead th {\n",
       "        text-align: right;\n",
       "    }\n",
       "</style>\n",
       "<table border=\"1\" class=\"dataframe\">\n",
       "  <thead>\n",
       "    <tr style=\"text-align: right;\">\n",
       "      <th></th>\n",
       "      <th>Année-Mois-jour</th>\n",
       "      <th>nb_incidents</th>\n",
       "      <th>seuil</th>\n",
       "    </tr>\n",
       "  </thead>\n",
       "  <tbody>\n",
       "    <tr>\n",
       "      <th>0</th>\n",
       "      <td>2015-01-03</td>\n",
       "      <td>1</td>\n",
       "      <td>1</td>\n",
       "    </tr>\n",
       "    <tr>\n",
       "      <th>1</th>\n",
       "      <td>2015-01-04</td>\n",
       "      <td>1</td>\n",
       "      <td>1</td>\n",
       "    </tr>\n",
       "    <tr>\n",
       "      <th>2</th>\n",
       "      <td>2015-01-05</td>\n",
       "      <td>0</td>\n",
       "      <td>0</td>\n",
       "    </tr>\n",
       "    <tr>\n",
       "      <th>3</th>\n",
       "      <td>2015-01-06</td>\n",
       "      <td>0</td>\n",
       "      <td>0</td>\n",
       "    </tr>\n",
       "    <tr>\n",
       "      <th>4</th>\n",
       "      <td>2015-01-07</td>\n",
       "      <td>3</td>\n",
       "      <td>2</td>\n",
       "    </tr>\n",
       "  </tbody>\n",
       "</table>\n",
       "</div>"
      ],
      "text/plain": [
       "  Année-Mois-jour  nb_incidents  seuil\n",
       "0      2015-01-03             1      1\n",
       "1      2015-01-04             1      1\n",
       "2      2015-01-05             0      0\n",
       "3      2015-01-06             0      0\n",
       "4      2015-01-07             3      2"
      ]
     },
     "execution_count": 16,
     "metadata": {},
     "output_type": "execute_result"
    }
   ],
   "source": [
    "incidents_per_day.head()"
   ]
  },
  {
   "cell_type": "code",
   "execution_count": 8,
   "metadata": {},
   "outputs": [],
   "source": [
    "# incidents_per_day[\"seuil\"] = np.where(incidents_per_day>1, 2, np.where(incidents_per_day>0, 1, 0))\n",
    "# plt.figure(figsize=(15,5))\n",
    "# plt.plot(incidents_per_day[\"seuil\"])\n",
    "# plt.xticks(range(0, len(incidents_per_day[\"seuil\"]), 365),rotation=90)\n",
    "# plt.title('Number of incidents per day')\n",
    "# plt.xlabel('Date')\n",
    "# plt.ylabel('Number of incidents')\n",
    "# plt.show()"
   ]
  },
  {
   "cell_type": "code",
   "execution_count": 9,
   "metadata": {},
   "outputs": [],
   "source": [
    "# plt.figure(figsize=(15,5))\n",
    "# plt.plot(incidents_per_day)\n",
    "# plt.xticks(range(0, len(incidents_per_day.index), 365),rotation=90)\n",
    "# plt.title('Number of incidents per day')\n",
    "# plt.xlabel('Date')\n",
    "# plt.ylabel('Number of incidents')\n",
    "# plt.show()"
   ]
  },
  {
   "cell_type": "code",
   "execution_count": 17,
   "metadata": {},
   "outputs": [
    {
     "data": {
      "image/png": "[encoded data removed]",
      "text/plain": [
       "<Figure size 1500x500 with 2 Axes>"
      ]
     },
     "metadata": {},
     "output_type": "display_data"
    }
   ],
   "source": [
    "#show histogram of accident\n",
    "\n",
    "incidents_per_day.hist(bins= range(10), figsize=(15,5))\n",
    "plt.title('Histogram of number of incidents per day')\n",
    "plt.xlabel('Number of incidents')\n",
    "plt.xticks(range(10))\n",
    "plt.ylabel('Number of days')\n",
    "plt.show()"
   ]
  },
  {
   "cell_type": "code",
   "execution_count": 11,
   "metadata": {},
   "outputs": [],
   "source": [
    "# import numpy as np\n",
    "# # plot mean temperature per day\n",
    "# plt.figure(figsize=(15,5))\n",
    "# plt.plot(temperatures_per_day)\n",
    "# plt.title('Mean temperature per day')\n",
    "# plt.xlabel('Date')\n",
    "# plt.ylabel('Mean temperature')\n",
    "# plt.show()"
   ]
  },
  {
   "cell_type": "code",
   "execution_count": 12,
   "metadata": {},
   "outputs": [],
   "source": [
    "humidite.rename(columns={\"date_valid\": 'Année-Mois-jour',\"valeur\": 'humidite'}, inplace=True)\n",
    "nuages.rename(columns={\"date_valid\": 'Année-Mois-jour',\"valeur\": 'nuages'}, inplace=True)\n",
    "# remove the H:MM:SS from the date\n",
    "humidite['Année-Mois-jour'] = humidite['Année-Mois-jour'].str.split(' ').str[0].astype(str)\n",
    "nuages['Année-Mois-jour'] = nuages['Année-Mois-jour'].str.split(' ').str[0].astype(str)\n"
   ]
  },
  {
   "cell_type": "code",
   "execution_count": 13,
   "metadata": {},
   "outputs": [],
   "source": [
    "humidite_per_day = humidite.groupby('Année-Mois-jour').mean()\n",
    "nuages_per_day = nuages.groupby('Année-Mois-jour').mean()"
   ]
  },
  {
   "cell_type": "code",
   "execution_count": 18,
   "metadata": {
    "ExecuteTime": {
     "end_time": "2024-01-23T15:42:00.035221Z",
     "start_time": "2024-01-23T15:42:00.015447Z"
    }
   },
   "outputs": [
    {
     "data": {
      "text/html": [
       "<div>\n",
       "<style scoped>\n",
       "    .dataframe tbody tr th:only-of-type {\n",
       "        vertical-align: middle;\n",
       "    }\n",
       "\n",
       "    .dataframe tbody tr th {\n",
       "        vertical-align: top;\n",
       "    }\n",
       "\n",
       "    .dataframe thead th {\n",
       "        text-align: right;\n",
       "    }\n",
       "</style>\n",
       "<table border=\"1\" class=\"dataframe\">\n",
       "  <thead>\n",
       "    <tr style=\"text-align: right;\">\n",
       "      <th></th>\n",
       "      <th>Année-Mois-jour</th>\n",
       "      <th>nb_incidents</th>\n",
       "      <th>seuil</th>\n",
       "      <th>temperature</th>\n",
       "      <th>humidite</th>\n",
       "      <th>longitude</th>\n",
       "      <th>latitude</th>\n",
       "      <th>nuages</th>\n",
       "    </tr>\n",
       "  </thead>\n",
       "  <tbody>\n",
       "    <tr>\n",
       "      <th>0</th>\n",
       "      <td>2015-01-03</td>\n",
       "      <td>1</td>\n",
       "      <td>1</td>\n",
       "      <td>5.912898</td>\n",
       "      <td>93.768176</td>\n",
       "      <td>0.141429</td>\n",
       "      <td>44.8225</td>\n",
       "      <td>97.800992</td>\n",
       "    </tr>\n",
       "    <tr>\n",
       "      <th>1</th>\n",
       "      <td>2015-01-04</td>\n",
       "      <td>1</td>\n",
       "      <td>1</td>\n",
       "      <td>9.301486</td>\n",
       "      <td>95.745783</td>\n",
       "      <td>0.141429</td>\n",
       "      <td>44.8225</td>\n",
       "      <td>65.746025</td>\n",
       "    </tr>\n",
       "    <tr>\n",
       "      <th>2</th>\n",
       "      <td>2015-01-05</td>\n",
       "      <td>0</td>\n",
       "      <td>0</td>\n",
       "      <td>3.522026</td>\n",
       "      <td>95.898868</td>\n",
       "      <td>0.141429</td>\n",
       "      <td>44.8225</td>\n",
       "      <td>64.678316</td>\n",
       "    </tr>\n",
       "    <tr>\n",
       "      <th>3</th>\n",
       "      <td>2015-01-06</td>\n",
       "      <td>0</td>\n",
       "      <td>0</td>\n",
       "      <td>3.549924</td>\n",
       "      <td>96.674328</td>\n",
       "      <td>0.141429</td>\n",
       "      <td>44.8225</td>\n",
       "      <td>89.143881</td>\n",
       "    </tr>\n",
       "    <tr>\n",
       "      <th>4</th>\n",
       "      <td>2015-01-07</td>\n",
       "      <td>3</td>\n",
       "      <td>2</td>\n",
       "      <td>5.308433</td>\n",
       "      <td>95.563966</td>\n",
       "      <td>0.141429</td>\n",
       "      <td>44.8225</td>\n",
       "      <td>60.826242</td>\n",
       "    </tr>\n",
       "  </tbody>\n",
       "</table>\n",
       "</div>"
      ],
      "text/plain": [
       "  Année-Mois-jour  nb_incidents  seuil  temperature   humidite  longitude  \\\n",
       "0      2015-01-03             1      1     5.912898  93.768176   0.141429   \n",
       "1      2015-01-04             1      1     9.301486  95.745783   0.141429   \n",
       "2      2015-01-05             0      0     3.522026  95.898868   0.141429   \n",
       "3      2015-01-06             0      0     3.549924  96.674328   0.141429   \n",
       "4      2015-01-07             3      2     5.308433  95.563966   0.141429   \n",
       "\n",
       "   latitude     nuages  \n",
       "0   44.8225  97.800992  \n",
       "1   44.8225  65.746025  \n",
       "2   44.8225  64.678316  \n",
       "3   44.8225  89.143881  \n",
       "4   44.8225  60.826242  "
      ]
     },
     "execution_count": 18,
     "metadata": {},
     "output_type": "execute_result"
    }
   ],
   "source": [
    "import pandas as pd\n",
    "# Prepare dataframes so that column names match \n",
    "temperatures_per_day.rename(columns={\"date_valid\": 'Année-Mois-jour', 'valeur': 'temperature'}, inplace=True)\n",
    "incidents_per_day.rename(columns={\"Value\": 'nb_incidents'}, inplace=True)\n",
    "\n",
    "# Convert date to string for the merge\n",
    "temperatures_per_day['Année-Mois-jour'] = temperatures_per_day['Année-Mois-jour'].astype(str)\n",
    "# Merge the four dataframes on date column\n",
    "incidents_and_temperatures_per_day = pd.merge(incidents_per_day, temperatures_per_day, on='Année-Mois-jour', how='left')\n",
    "incidents_and_temperatures_per_day = pd.merge(incidents_and_temperatures_per_day, humidite_per_day, on='Année-Mois-jour', how='left')\n",
    "incidents_and_temperatures_per_day = pd.merge(incidents_and_temperatures_per_day, nuages_per_day, on='Année-Mois-jour', how='left')\n",
    "\n",
    "incidents_and_temperatures_per_day.drop(columns=['latitude_y', 'longitude_y'], inplace=True)\n",
    "incidents_and_temperatures_per_day.rename(columns={\"latitude_x\": 'latitude', 'longitude_x': 'longitude'}, inplace=True)\n",
    "incidents_and_temperatures_per_day.head()"
   ]
  },
  {
   "cell_type": "code",
   "execution_count": 19,
   "metadata": {},
   "outputs": [],
   "source": [
    "# Save incidents_and_temperatures_per_day to csv\n",
    "incidents_and_temperatures_per_day.to_csv('incidents_and_temperatures_per_day.csv', index=False)"
   ]
  },
  {
   "cell_type": "code",
   "execution_count": null,
   "metadata": {},
   "outputs": [],
   "source": []
  }
 ],
 "metadata": {
  "kernelspec": {
   "display_name": "Python 3",
   "language": "python",
   "name": "python3"
  },
  "language_info": {
   "codemirror_mode": {
    "name": "ipython",
    "version": 3
   },
   "file_extension": ".py",
   "mimetype": "text/x-python",
   "name": "python",
   "nbconvert_exporter": "python",
   "pygments_lexer": "ipython3",
   "version": "3.11.5"
  }
 },
 "nbformat": 4,
 "nbformat_minor": 2
}
