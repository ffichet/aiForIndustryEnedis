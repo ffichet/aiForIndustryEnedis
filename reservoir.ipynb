{
 "cells": [
  {
   "cell_type": "code",
   "execution_count": 11,
   "metadata": {},
   "outputs": [],
   "source": [
    "import reservoirpy as rpy\n",
    "import pandas as pd\n",
    "import numpy as np\n",
    "\n",
    "# rpy.verbosity(0)  # no need to be too verbose here\n",
    "rpy.set_seed(42)  # make everything reproducible !"
   ]
  },
  {
   "cell_type": "code",
   "execution_count": 12,
   "metadata": {},
   "outputs": [],
   "source": [
    "from reservoirpy.nodes import Reservoir\n",
    "# Create the reservoir\n",
    "reservoir = Reservoir(500, lr=0.5, sr=0.9)"
   ]
  },
  {
   "cell_type": "code",
   "execution_count": 13,
   "metadata": {},
   "outputs": [],
   "source": [
    "# Load the data\n",
    "data = pd.read_csv('incidents_and_temperatures_per_day.csv', header=0)\n",
    "# Drop nan values if present\n",
    "data = data.dropna() if data.isnull().values.any() else data\n",
    "# Retrieve the needed data columns\n",
    "X = data[['temperature', 'humidite', 'nuages']]\n",
    "Y = data[['seuil']]"
   ]
  },
  {
   "cell_type": "code",
   "execution_count": 14,
   "metadata": {},
   "outputs": [
    {
     "name": "stdout",
     "output_type": "stream",
     "text": [
      "[0 1 2]\n",
      "(3286, 3)\n"
     ]
    }
   ],
   "source": [
    "# Prepare the data for the reservoir (needs to be a numpy array)\n",
    "X = np.array(X)\n",
    "Y = np.array(Y)\n",
    "\n",
    "print(np.unique(Y))\n",
    "\n",
    "# Transform Y into one-hot encoding with numpy\n",
    "Y = np.eye(3)[Y].reshape(-1, 3)\n",
    "print(Y.shape)"
   ]
  },
  {
   "cell_type": "code",
   "execution_count": 15,
   "metadata": {},
   "outputs": [],
   "source": [
    "from sklearn.model_selection import train_test_split\n",
    "# Split the data into train and test sets\n",
    "lx, ly = len(X), len(Y)\n",
    "X_train, X_test, Y_train, Y_test = X[:int(lx*0.8)], X[int(lx*0.8):], Y[:int(ly*0.8)], Y[int(ly*0.8):]"
   ]
  },
  {
   "cell_type": "code",
   "execution_count": 16,
   "metadata": {},
   "outputs": [],
   "source": [
    "from reservoirpy.nodes import Ridge\n",
    "ridge = Ridge(ridge=1e-7)\n",
    "esn_model = reservoir >> ridge"
   ]
  },
  {
   "cell_type": "code",
   "execution_count": 17,
   "metadata": {},
   "outputs": [
    {
     "name": "stderr",
     "output_type": "stream",
     "text": [
      "Running Reservoir-1: 100%|██████████| 2628/2628 [00:00<00:00, 5828.97it/s]\n",
      "Running Model-1: 2628it [00:00, 5087.14it/s]<?, ?it/s]\n",
      "Running Model-1: 100%|██████████| 1/1 [00:00<00:00,  1.81it/s]\n"
     ]
    },
    {
     "name": "stdout",
     "output_type": "stream",
     "text": [
      "Fitting node Ridge-1...\n"
     ]
    }
   ],
   "source": [
    "train_states = reservoir.run(X_train)\n",
    "\n",
    "esn_model = esn_model.fit(X_train, Y_train, warmup=10)"
   ]
  },
  {
   "cell_type": "code",
   "execution_count": 18,
   "metadata": {},
   "outputs": [
    {
     "name": "stdout",
     "output_type": "stream",
     "text": [
      "True True True\n"
     ]
    }
   ],
   "source": [
    "# Check if the method has initialized all nodes in the Model, and trained the Ridge readout\n",
    "print(reservoir.is_initialized, ridge.is_initialized, ridge.fitted)"
   ]
  },
  {
   "cell_type": "code",
   "execution_count": 19,
   "metadata": {},
   "outputs": [
    {
     "name": "stderr",
     "output_type": "stream",
     "text": [
      "Running Model-1: 658it [00:00, 4111.99it/s]           \n"
     ]
    },
    {
     "data": {
      "text/plain": [
       "array([[0.78170595, 0.1213185 , 0.09697531],\n",
       "       [0.80088627, 0.18989583, 0.00921803],\n",
       "       [0.74596224, 0.15919341, 0.09484454],\n",
       "       ...,\n",
       "       [0.64696162, 0.23095666, 0.12208189],\n",
       "       [0.63428868, 0.27647743, 0.08923401],\n",
       "       [0.62333907, 0.32826862, 0.04839244]])"
      ]
     },
     "execution_count": 19,
     "metadata": {},
     "output_type": "execute_result"
    }
   ],
   "source": [
    "# Predict \n",
    "Y_pred = esn_model.run(X_test)\n",
    "Y_pred"
   ]
  },
  {
   "cell_type": "code",
   "execution_count": 20,
   "metadata": {},
   "outputs": [
    {
     "name": "stdout",
     "output_type": "stream",
     "text": [
      "0.48632218844984804\n",
      "[[282  29  16]\n",
      " [167  18  27]\n",
      " [ 87  12  20]]\n"
     ]
    }
   ],
   "source": [
    "# compute accuracy\n",
    "from sklearn.metrics import accuracy_score\n",
    "print(accuracy_score(Y_test.argmax(axis=1), Y_pred.argmax(axis=1)))\n",
    "\n",
    "# compute confusion matrix\n",
    "from sklearn.metrics import confusion_matrix\n",
    "print(confusion_matrix(Y_test.argmax(axis=1), Y_pred.argmax(axis=1)))"
   ]
  }
 ],
 "metadata": {
  "kernelspec": {
   "display_name": ".venv",
   "language": "python",
   "name": "python3"
  },
  "language_info": {
   "codemirror_mode": {
    "name": "ipython",
    "version": 3
   },
   "file_extension": ".py",
   "mimetype": "text/x-python",
   "name": "python",
   "nbconvert_exporter": "python",
   "pygments_lexer": "ipython3",
   "version": "3.11.6"
  }
 },
 "nbformat": 4,
 "nbformat_minor": 2
}
