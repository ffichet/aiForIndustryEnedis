{
 "cells": [
  {
   "cell_type": "code",
   "execution_count": 1,
   "metadata": {},
   "outputs": [],
   "source": [
    "import reservoirpy as rpy\n",
    "import pandas as pd\n",
    "import numpy as np\n",
    "\n",
    "# rpy.verbosity(0)  # no need to be too verbose here\n",
    "rpy.set_seed(42)  # make everything reproducible !"
   ]
  },
  {
   "cell_type": "code",
   "execution_count": 2,
   "metadata": {},
   "outputs": [],
   "source": [
    "from reservoirpy.nodes import Reservoir\n",
    "# Create the reservoir\n",
    "reservoir = Reservoir(500, lr=0.5, sr=0.9)"
   ]
  },
  {
   "cell_type": "code",
   "execution_count": 3,
   "metadata": {},
   "outputs": [],
   "source": [
    "# Load the data\n",
    "data = pd.read_csv('data.csv', header=0)\n",
    "# Drop nan values if present\n",
    "data = data.dropna() if data.isnull().values.any() else data\n",
    "# Retrieve the needed data columns\n",
    "X = data[[\"('temperature', 'mean')\",\"('temperature', 'max')\",\"('temperature', 'min')\",\"('humidite', 'mean')\",\"('humidite', 'max')\",\"('humidite', 'min')\",\"('nuages', 'mean')\",\"('nuages', 'max')\",\"('nuages', 'min')\"]]\n",
    "Y = data[[\"incidents\"]]"
   ]
  },
  {
   "cell_type": "code",
   "execution_count": 4,
   "metadata": {},
   "outputs": [
    {
     "name": "stdout",
     "output_type": "stream",
     "text": [
      "[0 1 2]\n",
      "(3653, 3)\n"
     ]
    }
   ],
   "source": [
    "# Prepare the data for the reservoir (needs to be a numpy array)\n",
    "X = np.array(X)\n",
    "Y = np.array(Y, dtype=np.int32)\n",
    "\n",
    "print(np.unique(Y))\n",
    "\n",
    "# Transform Y into one-hot encoding with numpy\n",
    "Y = np.eye(3)[Y].reshape(-1, 3)\n",
    "print(Y.shape)"
   ]
  },
  {
   "cell_type": "code",
   "execution_count": 5,
   "metadata": {},
   "outputs": [],
   "source": [
    "from sklearn.model_selection import train_test_split\n",
    "# Split the data into train and test sets\n",
    "lx, ly = len(X), len(Y)\n",
    "X_train, X_test, Y_train, Y_test = X[:int(lx*0.8)], X[int(lx*0.8):], Y[:int(ly*0.8)], Y[int(ly*0.8):]"
   ]
  },
  {
   "cell_type": "code",
   "execution_count": 6,
   "metadata": {},
   "outputs": [],
   "source": [
    "from reservoirpy.nodes import Ridge\n",
    "ridge = Ridge(ridge=1e-7)\n",
    "esn_model = reservoir >> ridge"
   ]
  },
  {
   "cell_type": "code",
   "execution_count": 7,
   "metadata": {},
   "outputs": [
    {
     "name": "stderr",
     "output_type": "stream",
     "text": [
      "Running Reservoir-0: 100%|██████████| 2922/2922 [00:00<00:00, 4803.03it/s]\n",
      "Running Model-0: 2922it [00:00, 3336.26it/s]<?, ?it/s]\n",
      "Running Model-0: 100%|██████████| 1/1 [00:00<00:00,  1.09it/s]\n"
     ]
    },
    {
     "name": "stdout",
     "output_type": "stream",
     "text": [
      "Fitting node Ridge-0...\n"
     ]
    }
   ],
   "source": [
    "train_states = reservoir.run(X_train)\n",
    "\n",
    "esn_model = esn_model.fit(X_train, Y_train, warmup=10)"
   ]
  },
  {
   "cell_type": "code",
   "execution_count": 8,
   "metadata": {},
   "outputs": [
    {
     "name": "stdout",
     "output_type": "stream",
     "text": [
      "True True True\n"
     ]
    }
   ],
   "source": [
    "# Check if the method has initialized all nodes in the Model, and trained the Ridge readout\n",
    "print(reservoir.is_initialized, ridge.is_initialized, ridge.fitted)"
   ]
  },
  {
   "cell_type": "code",
   "execution_count": 9,
   "metadata": {},
   "outputs": [
    {
     "name": "stderr",
     "output_type": "stream",
     "text": [
      "Running Model-0: 731it [00:00, 1859.69it/s]           \n"
     ]
    },
    {
     "data": {
      "text/plain": [
       "array([[ 9.24375821e-01,  1.77529916e-02,  5.78734378e-02],\n",
       "       [ 8.84213338e-01,  6.55272566e-02,  5.02604499e-02],\n",
       "       [ 9.22740544e-01,  4.94378803e-02,  2.78225007e-02],\n",
       "       ...,\n",
       "       [ 8.81351425e-01,  7.95132167e-02,  3.91363639e-02],\n",
       "       [ 8.72873017e-01,  1.05382376e-01,  2.17457421e-02],\n",
       "       [-3.11566182e+01,  3.23093547e+01, -1.52694645e-01]])"
      ]
     },
     "execution_count": 9,
     "metadata": {},
     "output_type": "execute_result"
    }
   ],
   "source": [
    "# Predict \n",
    "Y_pred = esn_model.run(X_test)\n",
    "Y_pred"
   ]
  },
  {
   "cell_type": "code",
   "execution_count": 10,
   "metadata": {},
   "outputs": [
    {
     "name": "stderr",
     "output_type": "stream",
     "text": [
      "Running Model-0: 2922it [00:01, 2726.60it/s]          \n"
     ]
    },
    {
     "data": {
      "text/plain": [
       "array([[-16.07638048,  16.6345679 ,   0.4418289 ],\n",
       "       [ -7.88578637,   8.4771705 ,   0.4086198 ],\n",
       "       [ -3.55652427,   4.2974178 ,   0.25910781],\n",
       "       ...,\n",
       "       [  0.820183  ,   0.14966888,   0.03014601],\n",
       "       [  0.81655761,   0.15530593,   0.02813651],\n",
       "       [  0.92476246,   0.04904759,   0.02618987]])"
      ]
     },
     "execution_count": 10,
     "metadata": {},
     "output_type": "execute_result"
    }
   ],
   "source": [
    "# Predict \n",
    "Y_pred_2 = esn_model.run(X_train)\n",
    "Y_pred_2"
   ]
  },
  {
   "cell_type": "code",
   "execution_count": 11,
   "metadata": {},
   "outputs": [
    {
     "name": "stdout",
     "output_type": "stream",
     "text": [
      "0.7975376196990424\n",
      "[[566  27   5]\n",
      " [ 86   3   6]\n",
      " [ 23   1  14]]\n"
     ]
    }
   ],
   "source": [
    "# compute accuracy\n",
    "from sklearn.metrics import accuracy_score\n",
    "print(accuracy_score(Y_test.argmax(axis=1), Y_pred.argmax(axis=1)))\n",
    "\n",
    "# compute confusion matrix\n",
    "from sklearn.metrics import confusion_matrix\n",
    "print(confusion_matrix(Y_test.argmax(axis=1), Y_pred.argmax(axis=1)))"
   ]
  },
  {
   "cell_type": "code",
   "execution_count": 12,
   "metadata": {},
   "outputs": [
    {
     "name": "stdout",
     "output_type": "stream",
     "text": [
      "0.8846680355920602\n",
      "[[2534   11    0]\n",
      " [ 262   35    1]\n",
      " [  62    1   16]]\n"
     ]
    }
   ],
   "source": [
    "# compute accuracy\n",
    "print(accuracy_score(Y_train.argmax(axis=1), Y_pred_2.argmax(axis=1)))\n",
    "\n",
    "# compute confusion matrix\n",
    "print(confusion_matrix(Y_train.argmax(axis=1), Y_pred_2.argmax(axis=1)))"
   ]
  }
 ],
 "metadata": {
  "kernelspec": {
   "display_name": ".venv",
   "language": "python",
   "name": "python3"
  },
  "language_info": {
   "codemirror_mode": {
    "name": "ipython",
    "version": 3
   },
   "file_extension": ".py",
   "mimetype": "text/x-python",
   "name": "python",
   "nbconvert_exporter": "python",
   "pygments_lexer": "ipython3",
   "version": "3.11.6"
  }
 },
 "nbformat": 4,
 "nbformat_minor": 2
}
